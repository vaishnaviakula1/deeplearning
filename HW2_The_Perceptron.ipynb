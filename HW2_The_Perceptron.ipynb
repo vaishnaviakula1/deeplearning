{
  "cells": [
    {
      "cell_type": "markdown",
      "source": [
        "# **CSCE 5218 / CSCE 4930 Deep Learning**\n",
        "\n",
        "# **HW1a The Perceptron** (20 pt)\n"
      ],
      "metadata": {
        "id": "vYiZq0X2oB5t"
      }
    },
    {
      "cell_type": "code",
      "execution_count": 22,
      "source": [
        "# Get the datasets\n",
        "!wget http://huang.eng.unt.edu/CSCE-5218/test.dat\n",
        "!wget http://huang.eng.unt.edu/CSCE-5218/train.dat\n"
      ],
      "outputs": [
        {
          "output_type": "stream",
          "name": "stdout",
          "text": [
            "--2024-02-18 22:45:45--  http://huang.eng.unt.edu/CSCE-5218/test.dat\n",
            "Resolving huang.eng.unt.edu (huang.eng.unt.edu)... 129.120.123.155\n",
            "Connecting to huang.eng.unt.edu (huang.eng.unt.edu)|129.120.123.155|:80... connected.\n",
            "HTTP request sent, awaiting response... 200 OK\n",
            "Length: 2844 (2.8K)\n",
            "Saving to: ‘test.dat.2’\n",
            "\n",
            "\rtest.dat.2            0%[                    ]       0  --.-KB/s               \rtest.dat.2          100%[===================>]   2.78K  --.-KB/s    in 0s      \n",
            "\n",
            "2024-02-18 22:45:46 (266 MB/s) - ‘test.dat.2’ saved [2844/2844]\n",
            "\n",
            "--2024-02-18 22:45:46--  http://huang.eng.unt.edu/CSCE-5218/train.dat\n",
            "Resolving huang.eng.unt.edu (huang.eng.unt.edu)... 129.120.123.155\n",
            "Connecting to huang.eng.unt.edu (huang.eng.unt.edu)|129.120.123.155|:80... connected.\n",
            "HTTP request sent, awaiting response... 200 OK\n",
            "Length: 11244 (11K)\n",
            "Saving to: ‘train.dat.2’\n",
            "\n",
            "train.dat.2         100%[===================>]  10.98K  --.-KB/s    in 0s      \n",
            "\n",
            "2024-02-18 22:45:46 (183 MB/s) - ‘train.dat.2’ saved [11244/11244]\n",
            "\n"
          ]
        }
      ],
      "metadata": {
        "colab": {
          "base_uri": "https://localhost:8080/"
        },
        "id": "vGVmKzgG2Ium",
        "outputId": "e3e9fb65-1ab2-4b09-de63-bd0a059f343a"
      }
    },
    {
      "cell_type": "code",
      "execution_count": 23,
      "source": [
        "# Take a peek at the datasets\n",
        "!head train.dat\n",
        "!head test.dat"
      ],
      "outputs": [
        {
          "output_type": "stream",
          "name": "stdout",
          "text": [
            "A1\tA2\tA3\tA4\tA5\tA6\tA7\tA8\tA9\tA10\tA11\tA12\tA13\t\n",
            "1\t1\t0\t0\t0\t0\t0\t0\t1\t1\t0\t0\t1\t0\n",
            "0\t0\t1\t1\t0\t1\t1\t0\t0\t0\t0\t0\t1\t0\n",
            "0\t1\t0\t1\t1\t0\t1\t0\t1\t1\t1\t0\t1\t1\n",
            "0\t0\t1\t0\t0\t1\t0\t1\t0\t1\t1\t1\t1\t0\n",
            "0\t1\t0\t0\t0\t0\t0\t1\t1\t1\t1\t1\t1\t0\n",
            "0\t1\t1\t1\t0\t0\t0\t1\t0\t1\t1\t0\t1\t1\n",
            "0\t1\t1\t0\t0\t0\t1\t0\t0\t0\t0\t0\t1\t0\n",
            "0\t0\t0\t1\t1\t0\t1\t1\t1\t0\t0\t0\t1\t0\n",
            "0\t0\t0\t0\t0\t0\t1\t0\t1\t0\t1\t0\t1\t0\n",
            "A1\tA2\tA3\tA4\tA5\tA6\tA7\tA8\tA9\tA10\tA11\tA12\tA13\n",
            "1\t1\t1\t1\t0\t0\t1\t1\t0\t0\t0\t1\t1\t0\n",
            "0\t0\t0\t1\t0\t0\t1\t1\t0\t1\t0\t0\t1\t0\n",
            "0\t1\t1\t1\t0\t1\t1\t1\t1\t0\t0\t0\t1\t0\n",
            "0\t1\t1\t0\t1\t0\t1\t1\t1\t0\t1\t0\t1\t0\n",
            "0\t1\t0\t0\t0\t1\t0\t1\t0\t1\t0\t0\t1\t0\n",
            "0\t1\t1\t0\t0\t1\t1\t1\t1\t1\t1\t0\t1\t0\n",
            "0\t1\t1\t1\t0\t0\t1\t1\t0\t0\t0\t1\t1\t0\n",
            "0\t1\t0\t0\t1\t0\t0\t1\t1\t0\t1\t1\t1\t0\n",
            "1\t1\t1\t1\t0\t0\t1\t1\t0\t0\t0\t0\t1\t0\n"
          ]
        }
      ],
      "metadata": {
        "colab": {
          "base_uri": "https://localhost:8080/"
        },
        "id": "A69DxPSc8vNs",
        "outputId": "b6e6ec02-eb63-4d2a-fbbf-bcfe56b17267"
      }
    },
    {
      "cell_type": "markdown",
      "source": [
        "### Build the Perceptron Model\n",
        "\n",
        "You will need to complete some of the function definitions below.  DO NOT import any other libraries to complete this."
      ],
      "metadata": {
        "id": "rFXHLhnhwiBR"
      }
    },
    {
      "cell_type": "code",
      "execution_count": 24,
      "source": [
        "import math\n",
        "import itertools\n",
        "import re\n",
        "\n",
        "\n",
        "# Corpus reader, all columns but the last one are coordinates;\n",
        "#   the last column is the label\n",
        "def read_data(file_name):\n",
        "    f = open(file_name, 'r')\n",
        "\n",
        "    data = []\n",
        "    # Discard header line\n",
        "    f.readline()\n",
        "    for instance in f.readlines():\n",
        "        if not re.search('\\t', instance): continue\n",
        "        instance = list(map(int, instance.strip().split('\\t')))\n",
        "        # Add a dummy input so that w0 becomes the bias\n",
        "        instance = [-1] + instance\n",
        "        data += [instance]\n",
        "    return data\n",
        "\n",
        "\n",
        "def dot_product(array1, array2):\n",
        "# To calculate the total of all the products, multiply the matching items from each array using a generator expression and the sum() function.\n",
        "    return sum(x * y for x, y in zip(array1, array2))\n",
        "\n",
        "\n",
        "def sigmoid(x):\n",
        "    #The formula for the sigmoid function is 1 / (1 + e^(-x)), where x is the input value and e is the base of the natural logarithm (about 2.71828).\n",
        "    return 1 / (1 + math.exp(-x))\n",
        "\n",
        "# The output of the model, which for the perceptron is\n",
        "# the sigmoid function applied to the dot product of\n",
        "# the instance and the weights\n",
        "def output(weight, instance):\n",
        "    # First, the instance's dot product and the weights are computed. The output of the model is then obtained by applying the sigmoid function to this result.\n",
        "    return sigmoid(dot_product(weight, instance))\n",
        "\n",
        "# Predict the label of an instance; this is the definition of the perceptron\n",
        "# you should output 1 if the output is >= 0.5 else output 0\n",
        "def predict(weights, instance):\n",
        "    # The model's output for the specified weights and instance is obtained by calling the `output` function.\n",
        "    # The method returns 1, indicating the positive class, if this output is >= 0.5. If not, the negative class is indicated by the return of 0.\n",
        "    return 1 if output(weights, instance) >= 0.5 else 0\n",
        "\n",
        "\n",
        "# Accuracy = percent of correct predictions\n",
        "def get_accuracy(weights, instances):\n",
        "    # You do not to write code like this, but get used to it\n",
        "    correct = sum([1 if predict(weights, instance) == instance[-1] else 0\n",
        "                   for instance in instances])\n",
        "    return correct * 100 / len(instances)\n",
        "\n",
        "\n",
        "# Train a perceptron with instances and hyperparameters:\n",
        "#       lr (learning rate)\n",
        "#       epochs\n",
        "# The implementation comes from the definition of the perceptron\n",
        "#\n",
        "# Training consists on fitting the parameters which are the weights\n",
        "# that's the only thing training is responsible to fit\n",
        "# (recall that w0 is the bias, and w1..wn are the weights for each coordinate)\n",
        "#\n",
        "# Hyperparameters (lr and epochs) are given to the training algorithm\n",
        "# We are updating weights in the opposite direction of the gradient of the error,\n",
        "# so with a \"decent\" lr we are guaranteed to reduce the error after each iteration.\n",
        "def train_perceptron(instances, lr, epochs):\n",
        "\n",
        "    #TODO: name this step\n",
        "    weights = [0] * (len(instances[0])-1)\n",
        "\n",
        "    for _ in range(epochs):\n",
        "        for instance in instances:\n",
        "            #TODO: name these steps\n",
        "            in_value = dot_product(weights, instance)\n",
        "            output = sigmoid(in_value)\n",
        "            error = instance[-1] - output\n",
        "            #TODO: name these steps\n",
        "            for i in range(0, len(weights)):\n",
        "                weights[i] += lr * error * output * (1-output) * instance[i]\n",
        "\n",
        "    return weights"
      ],
      "outputs": [],
      "metadata": {
        "id": "cXAsP_lw3QwJ"
      }
    },
    {
      "cell_type": "markdown",
      "source": [
        "## Run it"
      ],
      "metadata": {
        "id": "adBZuMlAwiBT"
      }
    },
    {
      "cell_type": "code",
      "execution_count": 25,
      "source": [
        "instances_tr = read_data(\"train.dat\")\n",
        "instances_te = read_data(\"test.dat\")\n",
        "lr = 0.005\n",
        "epochs = 5\n",
        "weights = train_perceptron(instances_tr, lr, epochs)\n",
        "accuracy = get_accuracy(weights, instances_te)\n",
        "print(f\"#tr: {len(instances_tr):3}, epochs: {epochs:3}, learning rate: {lr:.3f}; \"\n",
        "      f\"Accuracy (test, {len(instances_te)} instances): {accuracy:.1f}\")"
      ],
      "outputs": [
        {
          "output_type": "stream",
          "name": "stdout",
          "text": [
            "#tr: 400, epochs:   5, learning rate: 0.005; Accuracy (test, 100 instances): 68.0\n"
          ]
        }
      ],
      "metadata": {
        "id": "50YvUza-BYQF",
        "colab": {
          "base_uri": "https://localhost:8080/"
        },
        "outputId": "0abf83ad-45e7-46a9-84c2-e5bc7a4bb396"
      }
    },
    {
      "cell_type": "markdown",
      "source": [
        "## Questions\n",
        "\n",
        "Answer the following questions. Include your implementation and the output for each question."
      ],
      "metadata": {
        "id": "CBXkvaiQMohX"
      }
    },
    {
      "cell_type": "markdown",
      "source": [
        "\n",
        "\n",
        "### Question 1\n",
        "\n",
        "In `train_perceptron(instances, lr, epochs)`, we have the follosing code:\n",
        "```\n",
        "in_value = dot_product(weights, instance)\n",
        "output = sigmoid(in_value)\n",
        "error = instance[-1] - output\n",
        "```\n",
        "\n",
        "Why don't we have the following code snippet instead?\n",
        "```\n",
        "output = predict(weights, instance)\n",
        "error = instance[-1] - output\n",
        "```\n",
        "\n",
        "#### TODO Add your answer here (text only)\n",
        "\n",
        "\n"
      ],
      "metadata": {
        "id": "YCQ6BEk1CBlr"
      }
    },
    {
      "cell_type": "markdown",
      "source": [
        "The outcome of the dot product between the weights and the input instance is in_value. Next, to obtain the output, the sigmoid function which is a popular activation function in neural networks is applied to in_value. This introduces non-linearity and scales the output between 0 and 1. Subtracting the actual output from the predicted output is then used to compute the error.To obtain the outcome, the predict function is utilized. The parameters used in this function may be the same as those in the previous that is the dot product and the sigmoid function or they might involve extra steps like thresholding the sigmoid output to obtain a binary classification (0 or 1) rather than a probability.\n",
        "In the training phase, we are usually more interested in the neuron's raw output (a probability) than in a thresholded classification because that type of data provides a gradient that can be used for learning. This is the reason why the first snippet might be preferred in this context. Depending on how it is implemented, the predict function could only return a class label, which is not differentiable and so useless for gradient-based optimization techniques like backpropagation.\n",
        "In contrast, during the training phase, errors are typically attributed to the difference between the neuron's continuous output and the predicted outcome. This is required in order to compute the gradient of the mistake about the weights."
      ],
      "metadata": {
        "id": "GbvWIN9CNd5_"
      }
    },
    {
      "cell_type": "markdown",
      "source": [
        "### Question 2\n",
        "Train the perceptron with the following hyperparameters and calculate the accuracy with the test dataset.\n",
        "\n",
        "```\n",
        "tr_percent = [5, 10, 25, 50, 75, 100] # percent of the training dataset to train with\n",
        "num_epochs = [5, 10, 20, 50, 100]              # number of epochs\n",
        "lr = [0.005, 0.01, 0.05]              # learning rate\n",
        "```\n",
        "\n",
        "TODO: Write your code below and include the output at the end of each training loop (NOT AFTER EACH EPOCH)\n",
        "of your code.The output should look like the following:\n",
        "```\n",
        "# tr:  20, epochs:   5, learning rate: 0.005; Accuracy (test, 100 instances): 68.0\n",
        "# tr:  20, epochs:  10, learning rate: 0.005; Accuracy (test, 100 instances): 68.0\n",
        "# tr:  20, epochs:  20, learning rate: 0.005; Accuracy (test, 100 instances): 68.0\n",
        "[and so on for all the combinations]\n",
        "```\n",
        "You will get different results with different hyperparameters.\n",
        "\n",
        "#### TODO Add your answer here (code and output in the format above)\n"
      ],
      "metadata": {
        "id": "JU3c3m6YL2rK"
      }
    },
    {
      "cell_type": "code",
      "execution_count": 26,
      "source": [
        "instances_tr = read_data(\"train.dat\")\n",
        "instances_te = read_data(\"test.dat\")\n",
        "tr_percent = [5, 10, 25, 50, 75, 100] # percent of the training dataset to train with\n",
        "num_epochs = [5, 10, 20, 50, 100]     # number of epochs\n",
        "lr_array = [0.005, 0.01, 0.05]        # learning rate\n",
        "\n",
        "for lr in lr_array:\n",
        "  for tr_size in tr_percent:\n",
        "    for epochs in num_epochs:\n",
        "      size =  round(len(instances_tr)*tr_size/100)\n",
        "      pre_instances = instances_tr[0:size]\n",
        "      weights = train_perceptron(pre_instances, lr, epochs)\n",
        "      accuracy = get_accuracy(weights, instances_te)\n",
        "    print(f\"#tr: {len(pre_instances):0}, epochs: {epochs:3}, learning rate: {lr:.3f}; \"\n",
        "            f\"Accuracy (test, {len(instances_te)} instances): {accuracy:.1f}\")"
      ],
      "outputs": [
        {
          "output_type": "stream",
          "name": "stdout",
          "text": [
            "#tr: 20, epochs: 100, learning rate: 0.005; Accuracy (test, 100 instances): 68.0\n",
            "#tr: 40, epochs: 100, learning rate: 0.005; Accuracy (test, 100 instances): 68.0\n",
            "#tr: 100, epochs: 100, learning rate: 0.005; Accuracy (test, 100 instances): 68.0\n",
            "#tr: 200, epochs: 100, learning rate: 0.005; Accuracy (test, 100 instances): 74.0\n",
            "#tr: 300, epochs: 100, learning rate: 0.005; Accuracy (test, 100 instances): 78.0\n",
            "#tr: 400, epochs: 100, learning rate: 0.005; Accuracy (test, 100 instances): 77.0\n",
            "#tr: 20, epochs: 100, learning rate: 0.010; Accuracy (test, 100 instances): 68.0\n",
            "#tr: 40, epochs: 100, learning rate: 0.010; Accuracy (test, 100 instances): 68.0\n",
            "#tr: 100, epochs: 100, learning rate: 0.010; Accuracy (test, 100 instances): 71.0\n",
            "#tr: 200, epochs: 100, learning rate: 0.010; Accuracy (test, 100 instances): 78.0\n",
            "#tr: 300, epochs: 100, learning rate: 0.010; Accuracy (test, 100 instances): 80.0\n",
            "#tr: 400, epochs: 100, learning rate: 0.010; Accuracy (test, 100 instances): 80.0\n",
            "#tr: 20, epochs: 100, learning rate: 0.050; Accuracy (test, 100 instances): 64.0\n",
            "#tr: 40, epochs: 100, learning rate: 0.050; Accuracy (test, 100 instances): 69.0\n",
            "#tr: 100, epochs: 100, learning rate: 0.050; Accuracy (test, 100 instances): 77.0\n",
            "#tr: 200, epochs: 100, learning rate: 0.050; Accuracy (test, 100 instances): 76.0\n",
            "#tr: 300, epochs: 100, learning rate: 0.050; Accuracy (test, 100 instances): 77.0\n",
            "#tr: 400, epochs: 100, learning rate: 0.050; Accuracy (test, 100 instances): 80.0\n"
          ]
        }
      ],
      "metadata": {
        "id": "G-VKJOUu2BTp",
        "colab": {
          "base_uri": "https://localhost:8080/"
        },
        "outputId": "289534d3-c3c9-427d-f989-ccad16153429"
      }
    },
    {
      "cell_type": "code",
      "source": [
        "# read the test dataset\n",
        "test_data = read_data(\"test.dat\")\n",
        "\n",
        "# hyperparameters as given in question\n",
        "tr_percent = [5, 10, 25, 50, 75, 100] # percent of the training dataset to train with\n",
        "num_epochs = [5, 10, 20, 50, 100]      # number of epochs\n",
        "lr = [0.005, 0.01, 0.05]               # learning rate\n",
        "\n",
        "# Looping through every combination of hyperparameters\n",
        "for tr in tr_percent:\n",
        "    for epochs in num_epochs:\n",
        "        for learning_rate in lr:\n",
        "\n",
        "            train_data = read_data(\"train.dat\")\n",
        "            train_data_truncated = train_data[:int(len(train_data) * (tr / 100))]\n",
        "            # Training the perceptron\n",
        "            weights = train_perceptron(train_data_truncated, learning_rate, epochs)\n",
        "            # Calculating accuracy with the test dataset\n",
        "            accuracy = get_accuracy(weights, test_data)\n",
        "            print(\"# tr: {:3d}, epochs: {:3d}, learning rate: {:.3f}; Accuracy (test, {:d} instances): {:.1f}\".format(tr, epochs, learning_rate, len(test_data), accuracy))"
      ],
      "metadata": {
        "colab": {
          "base_uri": "https://localhost:8080/"
        },
        "id": "708G9XmAD_hj",
        "outputId": "79f06a50-e208-4eb5-cba7-049839649c08"
      },
      "execution_count": 27,
      "outputs": [
        {
          "output_type": "stream",
          "name": "stdout",
          "text": [
            "# tr:   5, epochs:   5, learning rate: 0.005; Accuracy (test, 100 instances): 68.0\n",
            "# tr:   5, epochs:   5, learning rate: 0.010; Accuracy (test, 100 instances): 68.0\n",
            "# tr:   5, epochs:   5, learning rate: 0.050; Accuracy (test, 100 instances): 68.0\n",
            "# tr:   5, epochs:  10, learning rate: 0.005; Accuracy (test, 100 instances): 68.0\n",
            "# tr:   5, epochs:  10, learning rate: 0.010; Accuracy (test, 100 instances): 68.0\n",
            "# tr:   5, epochs:  10, learning rate: 0.050; Accuracy (test, 100 instances): 68.0\n",
            "# tr:   5, epochs:  20, learning rate: 0.005; Accuracy (test, 100 instances): 68.0\n",
            "# tr:   5, epochs:  20, learning rate: 0.010; Accuracy (test, 100 instances): 68.0\n",
            "# tr:   5, epochs:  20, learning rate: 0.050; Accuracy (test, 100 instances): 68.0\n",
            "# tr:   5, epochs:  50, learning rate: 0.005; Accuracy (test, 100 instances): 68.0\n",
            "# tr:   5, epochs:  50, learning rate: 0.010; Accuracy (test, 100 instances): 68.0\n",
            "# tr:   5, epochs:  50, learning rate: 0.050; Accuracy (test, 100 instances): 68.0\n",
            "# tr:   5, epochs: 100, learning rate: 0.005; Accuracy (test, 100 instances): 68.0\n",
            "# tr:   5, epochs: 100, learning rate: 0.010; Accuracy (test, 100 instances): 68.0\n",
            "# tr:   5, epochs: 100, learning rate: 0.050; Accuracy (test, 100 instances): 64.0\n",
            "# tr:  10, epochs:   5, learning rate: 0.005; Accuracy (test, 100 instances): 68.0\n",
            "# tr:  10, epochs:   5, learning rate: 0.010; Accuracy (test, 100 instances): 68.0\n",
            "# tr:  10, epochs:   5, learning rate: 0.050; Accuracy (test, 100 instances): 68.0\n",
            "# tr:  10, epochs:  10, learning rate: 0.005; Accuracy (test, 100 instances): 68.0\n",
            "# tr:  10, epochs:  10, learning rate: 0.010; Accuracy (test, 100 instances): 68.0\n",
            "# tr:  10, epochs:  10, learning rate: 0.050; Accuracy (test, 100 instances): 68.0\n",
            "# tr:  10, epochs:  20, learning rate: 0.005; Accuracy (test, 100 instances): 68.0\n",
            "# tr:  10, epochs:  20, learning rate: 0.010; Accuracy (test, 100 instances): 68.0\n",
            "# tr:  10, epochs:  20, learning rate: 0.050; Accuracy (test, 100 instances): 68.0\n",
            "# tr:  10, epochs:  50, learning rate: 0.005; Accuracy (test, 100 instances): 68.0\n",
            "# tr:  10, epochs:  50, learning rate: 0.010; Accuracy (test, 100 instances): 68.0\n",
            "# tr:  10, epochs:  50, learning rate: 0.050; Accuracy (test, 100 instances): 71.0\n",
            "# tr:  10, epochs: 100, learning rate: 0.005; Accuracy (test, 100 instances): 68.0\n",
            "# tr:  10, epochs: 100, learning rate: 0.010; Accuracy (test, 100 instances): 68.0\n",
            "# tr:  10, epochs: 100, learning rate: 0.050; Accuracy (test, 100 instances): 69.0\n",
            "# tr:  25, epochs:   5, learning rate: 0.005; Accuracy (test, 100 instances): 68.0\n",
            "# tr:  25, epochs:   5, learning rate: 0.010; Accuracy (test, 100 instances): 68.0\n",
            "# tr:  25, epochs:   5, learning rate: 0.050; Accuracy (test, 100 instances): 68.0\n",
            "# tr:  25, epochs:  10, learning rate: 0.005; Accuracy (test, 100 instances): 68.0\n",
            "# tr:  25, epochs:  10, learning rate: 0.010; Accuracy (test, 100 instances): 68.0\n",
            "# tr:  25, epochs:  10, learning rate: 0.050; Accuracy (test, 100 instances): 67.0\n",
            "# tr:  25, epochs:  20, learning rate: 0.005; Accuracy (test, 100 instances): 68.0\n",
            "# tr:  25, epochs:  20, learning rate: 0.010; Accuracy (test, 100 instances): 68.0\n",
            "# tr:  25, epochs:  20, learning rate: 0.050; Accuracy (test, 100 instances): 70.0\n",
            "# tr:  25, epochs:  50, learning rate: 0.005; Accuracy (test, 100 instances): 68.0\n",
            "# tr:  25, epochs:  50, learning rate: 0.010; Accuracy (test, 100 instances): 68.0\n",
            "# tr:  25, epochs:  50, learning rate: 0.050; Accuracy (test, 100 instances): 74.0\n",
            "# tr:  25, epochs: 100, learning rate: 0.005; Accuracy (test, 100 instances): 68.0\n",
            "# tr:  25, epochs: 100, learning rate: 0.010; Accuracy (test, 100 instances): 71.0\n",
            "# tr:  25, epochs: 100, learning rate: 0.050; Accuracy (test, 100 instances): 77.0\n",
            "# tr:  50, epochs:   5, learning rate: 0.005; Accuracy (test, 100 instances): 68.0\n",
            "# tr:  50, epochs:   5, learning rate: 0.010; Accuracy (test, 100 instances): 68.0\n",
            "# tr:  50, epochs:   5, learning rate: 0.050; Accuracy (test, 100 instances): 71.0\n",
            "# tr:  50, epochs:  10, learning rate: 0.005; Accuracy (test, 100 instances): 68.0\n",
            "# tr:  50, epochs:  10, learning rate: 0.010; Accuracy (test, 100 instances): 68.0\n",
            "# tr:  50, epochs:  10, learning rate: 0.050; Accuracy (test, 100 instances): 77.0\n",
            "# tr:  50, epochs:  20, learning rate: 0.005; Accuracy (test, 100 instances): 68.0\n",
            "# tr:  50, epochs:  20, learning rate: 0.010; Accuracy (test, 100 instances): 68.0\n",
            "# tr:  50, epochs:  20, learning rate: 0.050; Accuracy (test, 100 instances): 78.0\n",
            "# tr:  50, epochs:  50, learning rate: 0.005; Accuracy (test, 100 instances): 67.0\n",
            "# tr:  50, epochs:  50, learning rate: 0.010; Accuracy (test, 100 instances): 74.0\n",
            "# tr:  50, epochs:  50, learning rate: 0.050; Accuracy (test, 100 instances): 78.0\n",
            "# tr:  50, epochs: 100, learning rate: 0.005; Accuracy (test, 100 instances): 74.0\n",
            "# tr:  50, epochs: 100, learning rate: 0.010; Accuracy (test, 100 instances): 78.0\n",
            "# tr:  50, epochs: 100, learning rate: 0.050; Accuracy (test, 100 instances): 76.0\n",
            "# tr:  75, epochs:   5, learning rate: 0.005; Accuracy (test, 100 instances): 68.0\n",
            "# tr:  75, epochs:   5, learning rate: 0.010; Accuracy (test, 100 instances): 68.0\n",
            "# tr:  75, epochs:   5, learning rate: 0.050; Accuracy (test, 100 instances): 74.0\n",
            "# tr:  75, epochs:  10, learning rate: 0.005; Accuracy (test, 100 instances): 68.0\n",
            "# tr:  75, epochs:  10, learning rate: 0.010; Accuracy (test, 100 instances): 68.0\n",
            "# tr:  75, epochs:  10, learning rate: 0.050; Accuracy (test, 100 instances): 78.0\n",
            "# tr:  75, epochs:  20, learning rate: 0.005; Accuracy (test, 100 instances): 68.0\n",
            "# tr:  75, epochs:  20, learning rate: 0.010; Accuracy (test, 100 instances): 70.0\n",
            "# tr:  75, epochs:  20, learning rate: 0.050; Accuracy (test, 100 instances): 79.0\n",
            "# tr:  75, epochs:  50, learning rate: 0.005; Accuracy (test, 100 instances): 74.0\n",
            "# tr:  75, epochs:  50, learning rate: 0.010; Accuracy (test, 100 instances): 78.0\n",
            "# tr:  75, epochs:  50, learning rate: 0.050; Accuracy (test, 100 instances): 78.0\n",
            "# tr:  75, epochs: 100, learning rate: 0.005; Accuracy (test, 100 instances): 78.0\n",
            "# tr:  75, epochs: 100, learning rate: 0.010; Accuracy (test, 100 instances): 80.0\n",
            "# tr:  75, epochs: 100, learning rate: 0.050; Accuracy (test, 100 instances): 77.0\n",
            "# tr: 100, epochs:   5, learning rate: 0.005; Accuracy (test, 100 instances): 68.0\n",
            "# tr: 100, epochs:   5, learning rate: 0.010; Accuracy (test, 100 instances): 68.0\n",
            "# tr: 100, epochs:   5, learning rate: 0.050; Accuracy (test, 100 instances): 69.0\n",
            "# tr: 100, epochs:  10, learning rate: 0.005; Accuracy (test, 100 instances): 68.0\n",
            "# tr: 100, epochs:  10, learning rate: 0.010; Accuracy (test, 100 instances): 69.0\n",
            "# tr: 100, epochs:  10, learning rate: 0.050; Accuracy (test, 100 instances): 76.0\n",
            "# tr: 100, epochs:  20, learning rate: 0.005; Accuracy (test, 100 instances): 69.0\n",
            "# tr: 100, epochs:  20, learning rate: 0.010; Accuracy (test, 100 instances): 70.0\n",
            "# tr: 100, epochs:  20, learning rate: 0.050; Accuracy (test, 100 instances): 80.0\n",
            "# tr: 100, epochs:  50, learning rate: 0.005; Accuracy (test, 100 instances): 73.0\n",
            "# tr: 100, epochs:  50, learning rate: 0.010; Accuracy (test, 100 instances): 77.0\n",
            "# tr: 100, epochs:  50, learning rate: 0.050; Accuracy (test, 100 instances): 80.0\n",
            "# tr: 100, epochs: 100, learning rate: 0.005; Accuracy (test, 100 instances): 77.0\n",
            "# tr: 100, epochs: 100, learning rate: 0.010; Accuracy (test, 100 instances): 80.0\n",
            "# tr: 100, epochs: 100, learning rate: 0.050; Accuracy (test, 100 instances): 80.0\n"
          ]
        }
      ]
    },
    {
      "cell_type": "markdown",
      "source": [
        "### Question 3\n",
        "Write a couple paragraphs interpreting the results with all the combinations of hyperparameters. Drawing a plot will probably help you make a point. In particular, answer the following:\n",
        "- A. Do you need to train with all the training dataset to get the highest accuracy with the test dataset?\n",
        "- B. How do you justify that training the second run obtains worse accuracy than the first one (despite the second one uses more training data)?\n",
        "   ```\n",
        "#tr: 100, epochs:  20, learning rate: 0.050; Accuracy (test, 100 instances): 71.0\n",
        "#tr: 200, epochs:  20, learning rate: 0.005; Accuracy (test, 100 instances): 68.0\n",
        "```\n",
        "- C. Can you get higher accuracy with additional hyperparameters (higher than `80.0`)?\n",
        "- D. Is it always worth training for more epochs (while keeping all other hyperparameters fixed)?\n",
        "\n",
        "#### TODO: Add your answer here (code and text)\n",
        "\n"
      ],
      "metadata": {
        "id": "OFB9MtwML24O"
      }
    },
    {
      "cell_type": "code",
      "source": [
        "import matplotlib.pyplot as plt\n",
        "\n",
        "tr_percent = [5, 10, 25, 50, 75, 100]\n",
        "num_epochs = [5, 10, 20, 50, 100]\n",
        "lr = [0.005, 0.01, 0.05]\n",
        "\n",
        "# Placeholder for accuracies\n",
        "accuracies = []\n",
        "for tr in tr_percent:\n",
        "    tr_accs = []\n",
        "    for epochs in num_epochs:\n",
        "        epochs_accs = []\n",
        "        for learning_rate in lr:\n",
        "            # Define the training dataset using the  percentage that is not using all\n",
        "            train_data = read_data(\"train.dat\")\n",
        "            train_data_truncated = train_data[:int(len(train_data) * (tr / 100))]\n",
        "            weights = train_perceptron(train_data_truncated, learning_rate, epochs)\n",
        "            accuracy = get_accuracy(weights, test_data)\n",
        "\n",
        "            # Store accuracy in placeholder\n",
        "            epochs_accs.append(accuracy)\n",
        "        tr_accs.append(epochs_accs)\n",
        "    accuracies.append(tr_accs)\n",
        "\n",
        "# Ploting\n",
        "plt.figure(figsize=(10, 6))\n",
        "for i, tr in enumerate(tr_percent):\n",
        "    for j, epochs in enumerate(num_epochs):\n",
        "        for k, learning_rate in enumerate(lr):\n",
        "            accuracy = accuracies[i][j][k]\n",
        "            plt.scatter(tr, accuracy, color='C{}'.format(k), label='lr={}'.format(learning_rate) if i==0 and j==0 else None)\n",
        "            plt.plot(tr, accuracy, '--', color='C{}'.format(k) if j==0 else None)\n",
        "plt.xlabel('Percentage of Training Data')\n",
        "plt.ylabel('Accuracy')\n",
        "plt.title('Accuracy vs. Percentage of Training Data')\n",
        "plt.legend(title='Learning Rate', loc='lower right')\n",
        "plt.grid(True)\n",
        "plt.show()\n"
      ],
      "metadata": {
        "colab": {
          "base_uri": "https://localhost:8080/",
          "height": 564
        },
        "id": "yPkugjPXFBQ2",
        "outputId": "6171f59a-1abd-4b28-8e13-177558f9db0e"
      },
      "execution_count": 28,
      "outputs": [
        {
          "output_type": "display_data",
          "data": {
            "text/plain": [
              "<Figure size 1000x600 with 1 Axes>"
            ],
            "image/png": "[encoded data removed]"
          },
          "metadata": {}
        }
      ]
    },
    {
      "cell_type": "markdown",
      "source": [
        "a.The scatter plot in the first figure suggests that in order to have the best accuracy on the test dataset, training using the whole training dataset is not required. There is some deviation from 100% training data for the greatest accuracies displayed in the figure. According to this, one may obtain good accuracy with a lower proportion of the training data, depending on the learning rate. The reason for this might be either overfitting when utilizing the complete dataset or the model's ability to generalize successfully from a representative portion of the data.I have plotted two plots for better understanding"
      ],
      "metadata": {
        "id": "_y_K32VOJKiZ"
      }
    },
    {
      "cell_type": "code",
      "source": [
        "import numpy as np\n",
        "import seaborn as sns\n",
        "\n",
        "tr_percent = [5, 10, 25, 50, 75, 100]\n",
        "num_epochs = [5, 10, 20, 50, 100]\n",
        "lr = [0.005, 0.01, 0.05]\n",
        "\n",
        "accuracies = np.zeros((len(tr_percent), len(num_epochs), len(lr)))\n",
        "for i, tr in enumerate(tr_percent):\n",
        "    for j, epochs in enumerate(num_epochs):\n",
        "        for k, learning_rate in enumerate(lr):\n",
        "            train_data = read_data(\"train.dat\")\n",
        "            train_data_truncated = train_data[:int(len(train_data) * (tr / 100))]\n",
        "            weights = train_perceptron(train_data_truncated, learning_rate, epochs)\n",
        "            accuracy = get_accuracy(weights, test_data)\n",
        "            accuracies[i, j, k] = accuracy\n",
        "\n",
        "# Create a heatmap plot\n",
        "plt.figure(figsize=(12, 8))\n",
        "sns.heatmap(accuracies.mean(axis=2), annot=True, fmt=\".1f\", cmap=\"YlGnBu\",\n",
        "            xticklabels=[str(lr_val) for lr_val in lr],\n",
        "            yticklabels=[str(epoch_val) for epoch_val in num_epochs])\n",
        "plt.xlabel('Learning Rate')\n",
        "plt.ylabel('Number of Epochs')\n",
        "plt.title('Accuracy vs. Number of Epochs and Learning Rate')\n",
        "plt.show()\n"
      ],
      "metadata": {
        "colab": {
          "base_uri": "https://localhost:8080/",
          "height": 718
        },
        "id": "7IKWuWf3Fe8o",
        "outputId": "a1ff1fe7-c101-4458-fa57-7b0eaa2550ee"
      },
      "execution_count": 29,
      "outputs": [
        {
          "output_type": "display_data",
          "data": {
            "text/plain": [
              "<Figure size 1200x800 with 2 Axes>"
            ],
            "image/png": "[encoded data removed]"
          },
          "metadata": {}
        }
      ]
    },
    {
      "cell_type": "markdown",
      "source": [
        "b.It is evident from the heatmap and the accuracy data points presented that increasing the amount of training data does not guarantee greater accuracy. For instance, even though we are using more training data, we find a drop in accuracy with tr: 100, epochs: 20, learning rate: 0.050; Accuracy (test, 100 instances): 71.0 compared to tr: 200, epochs: 20, learning rate: 0.005; Accuracy (test, 100 instances): 68.0. Numerous variables, including overfitting where the model learns the training data and noise too well and fails to generalize to the test data can cause this. In addition, an excessively small or big learning rate might prevent the model from correctly integrating or lead it to miss the ideal weights during training.\n",
        "\n",
        "c.It's unclear whether more hyperparameters can raise the accuracy above 80.0% based on the data and output. Yet, the pattern indicates that accuracy gains have been achieved by raising some hyperparameters, such as tr, and epochs while adjusting the learning rate. For example, accuracy attained is 78.0%, the closest to 80.0%, with tr: 50 and epochs: 100 at a learning rate of 0.010. In order to exceed 80.0%, one can try raising tr even more, adjusting additional hyperparameters that aren't on the list such batch size, new optimization algorithms, or regularization strategies or using hyperparameter optimization methods like random or grid search.\n",
        "\n",
        "d.Increasing the number of training epochs may not always be helpful since it may cause overfitting. Increasing the epochs from 50 to 100 did not always lead to better accuracy in the given data. For example, the accuracy dropped from 67.0% to 74.0% when epochs increased from 50 to 100 with tr: 50 and a learning rate of 0.005. It's critical to track both training and validation accuracy to ascertain whether the model's capacity for generalization is growing. In addition, early stopping which allows training to end if validation accuracy does not increase for a specific number of trials should also be taken into consideration."
      ],
      "metadata": {
        "id": "5Hcpuf3UKI9w"
      }
    },
    {
      "cell_type": "markdown",
      "source": [],
      "metadata": {
        "id": "38rA_Kp3wiBX"
      }
    }
  ],
  "metadata": {
    "accelerator": "GPU",
    "colab": {
      "provenance": []
    },
    "kernelspec": {
      "display_name": "Python 3",
      "name": "python3"
    },
    "language_info": {
      "codemirror_mode": {
        "name": "ipython",
        "version": 3
      },
      "file_extension": ".py",
      "mimetype": "text/x-python",
      "name": "python",
      "nbconvert_exporter": "python",
      "pygments_lexer": "ipython3",
      "version": "3.8.8"
    }
  },
  "nbformat": 4,
  "nbformat_minor": 0
}